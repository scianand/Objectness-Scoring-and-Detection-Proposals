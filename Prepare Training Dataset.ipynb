{
 "cells": [
  {
   "cell_type": "code",
   "execution_count": 84,
   "metadata": {},
   "outputs": [
    {
     "data": {
      "text/plain": [
       "'\\nInput:  JPG Image\\n        Annotation files in XML format (Ground Truth Bounding Boxes)\\n\\nOutput: Training data for ObjectNess Model\\n        X_positive, Y_positive, X_negative, Y_negative (.npy files)\\n        \\nThe aim of this code is to extract positive (containing object) and negative (background) samples from the image for \\ntraining Objecness Scoring Model\\n'"
      ]
     },
     "execution_count": 84,
     "metadata": {},
     "output_type": "execute_result"
    }
   ],
   "source": [
    "\"\"\"\n",
    "Input:  JPG Image\n",
    "        Annotation files in XML format (Ground Truth Bounding Boxes)\n",
    "\n",
    "Output: Training data for ObjectNess Model\n",
    "        X_positive, Y_positive, X_negative, Y_negative (.npy files)\n",
    "        \n",
    "The aim of this code is to extract positive (containing object) and negative (background) samples from the image for \n",
    "training Objecness Scoring Model\n",
    "\"\"\""
   ]
  },
  {
   "cell_type": "code",
   "execution_count": 82,
   "metadata": {},
   "outputs": [],
   "source": [
    "#Import all the packages\n",
    "import cv2\n",
    "import matplotlib.pyplot as plt\n",
    "import numpy as np\n",
    "import cv2\n",
    "import numpy as np\n",
    "import os\n",
    "import xml.etree.ElementTree as ET"
   ]
  },
  {
   "cell_type": "code",
   "execution_count": 2,
   "metadata": {},
   "outputs": [],
   "source": [
    "#image and annotation path\n",
    "\n",
    "image_path = \"Images/\"\n",
    "annotation_path = \"Annotation/\""
   ]
  },
  {
   "cell_type": "code",
   "execution_count": null,
   "metadata": {},
   "outputs": [],
   "source": [
    "#resize the image in 384x288"
   ]
  },
  {
   "cell_type": "code",
   "execution_count": 3,
   "metadata": {},
   "outputs": [],
   "source": [
    "#Stride and Sliding Window \n",
    "stepSize = 8\n",
    "(w_width, w_height) = (64, 64) # window size"
   ]
  },
  {
   "cell_type": "code",
   "execution_count": 4,
   "metadata": {},
   "outputs": [],
   "source": [
    "#iou function\n",
    "#epsilon=1e-5\n",
    "def get_iou(a, b, epsilon=0):\n",
    "    \"\"\" Given two boxes `a` and `b` defined as a list of four numbers:\n",
    "            [x1,y1,x2,y2]\n",
    "        where:\n",
    "            x1,y1 represent the upper left corner\n",
    "            x2,y2 represent the lower right corner\n",
    "        It returns the Intersect of Union score for these two boxes.\n",
    "\n",
    "    Args:\n",
    "        a:          (list of 4 numbers) [x1,y1,x2,y2]\n",
    "        b:          (list of 4 numbers) [x1,y1,x2,y2]\n",
    "        epsilon:    (float) Small value to prevent division by zero\n",
    "\n",
    "    Returns:\n",
    "        (float) The Intersect of Union score.\n",
    "    \"\"\"\n",
    "    # COORDINATES OF THE INTERSECTION BOX\n",
    "    x1 = max(a[0], b[0])\n",
    "    y1 = max(a[1], b[1])\n",
    "    x2 = min(a[2], b[2])\n",
    "    y2 = min(a[3], b[3])\n",
    "\n",
    "    # AREA OF OVERLAP - Area where the boxes intersect\n",
    "    width = (x2 - x1)\n",
    "    height = (y2 - y1)\n",
    "    # handle case where there is NO overlap\n",
    "    if (width<0) or (height <0):\n",
    "        return 0.0\n",
    "    area_overlap = width * height\n",
    "\n",
    "    # COMBINED AREA\n",
    "    area_a = (a[2] - a[0]) * (a[3] - a[1])\n",
    "    area_b = (b[2] - b[0]) * (b[3] - b[1])\n",
    "    area_combined = area_a + area_b - area_overlap\n",
    "\n",
    "    # RATIO OF AREA OF OVERLAP OVER COMBINED AREA\n",
    "    iou = area_overlap / (area_combined+epsilon)\n",
    "    return iou"
   ]
  },
  {
   "cell_type": "code",
   "execution_count": 24,
   "metadata": {},
   "outputs": [],
   "source": [
    "# List to save all image crops and associated iou values calculated when compared to ground truth boxes\n",
    "all_image_crops_with_ious = []"
   ]
  },
  {
   "cell_type": "code",
   "execution_count": 25,
   "metadata": {},
   "outputs": [],
   "source": [
    "# Calculate all_image_crops_with_ious\n",
    "for image in os.listdir(annotation_path):\n",
    "    annotation_file = annotation_path+image\n",
    "    image = cv2.imread(image_path+image.replace(\".xml\",\".jpg\"), cv2.IMREAD_GRAYSCALE) # your image path\n",
    "    i=0\n",
    "    for x in range(0, image.shape[1] - w_width , stepSize):\n",
    "        for y in range(0, image.shape[0] - w_height, stepSize):\n",
    "            #print(x, y, x+w_width, y+w_height)\n",
    "            crop_img = image[y:y+w_height, x:x+w_width]\n",
    "            #cv2.imwrite(\"Cropped_96/cropped_96_\"+str(i)+\".jpg\",crop_img)\n",
    "            #i=i+1\n",
    "            et = ET.parse(annotation_file)\n",
    "            element = et.getroot()\n",
    "            element_objs = element.findall('object')\n",
    "            #element_filename = element.find('filename').text\n",
    "            #base_filename = os.path.join(data_path, element_filename)\n",
    "            #print(base_filename)                               \n",
    "            #img = cv2.imread(base_filename)\n",
    "            #rows, cols = img.shape[:2] \n",
    "            #img_split = element_filename.strip().split('.jpg')\n",
    "            for element_obj in element_objs:\n",
    "                class_name = element_obj.find('name').text # return name tag ie class of disease from xml file\n",
    "                #print(class_name)\n",
    "                obj_bbox = element_obj.find('bndbox')\n",
    "                #print(obj_bbox)\n",
    "                x1 = int(round(float(obj_bbox.find('xmin').text)))\n",
    "                y1 = int(round(float(obj_bbox.find('ymin').text)))\n",
    "                x2 = int(round(float(obj_bbox.find('xmax').text)))\n",
    "                y2 = int(round(float(obj_bbox.find('ymax').text)))\n",
    "                #print(x1,y1,x2,y2)\n",
    "                iou = get_iou([x1,y1,x2,y2],[x, y, x+w_width, y+w_height])\n",
    "                if iou>0.0:\n",
    "                    all_image_crops_with_ious.append([crop_img, iou])"
   ]
  },
  {
   "cell_type": "code",
   "execution_count": 80,
   "metadata": {},
   "outputs": [],
   "source": [
    "#Refine ious for training the CNN\n",
    "def get_refined_ious(iou):\n",
    "    if iou>0.8 or iou==0.8:\n",
    "        return 1.0\n",
    "    elif iou>0.2 and iou<0.8:\n",
    "        return iou\n",
    "    else:\n",
    "        return 0.0"
   ]
  },
  {
   "cell_type": "code",
   "execution_count": 59,
   "metadata": {},
   "outputs": [
    {
     "data": {
      "text/plain": [
       "1.0"
      ]
     },
     "execution_count": 59,
     "metadata": {},
     "output_type": "execute_result"
    }
   ],
   "source": [
    "get_refined_ious(0.81)"
   ]
  },
  {
   "cell_type": "code",
   "execution_count": 63,
   "metadata": {},
   "outputs": [],
   "source": [
    "# Intialize list to save training examples and labels\n",
    "X_positive= []\n",
    "Y_positive= []\n",
    "X_negative= []\n",
    "Y_negative= []\n",
    "pos = 0\n",
    "neg = 0"
   ]
  },
  {
   "cell_type": "code",
   "execution_count": 64,
   "metadata": {},
   "outputs": [],
   "source": [
    "# Append training data into lists\n",
    "for data in all_image_crops_with_ious:\n",
    "    if data[1]>0.2:\n",
    "        cv2.imwrite(\"Positive/Positive_pipe_\"+str(pos)+\".jpg\",data[0])\n",
    "        X_positive.append(data[0])\n",
    "        Y_positive.append(get_refined_ious(data[1]))\n",
    "        pos = pos+1\n",
    "    else:\n",
    "        cv2.imwrite(\"Negative/Negative_pipe_\"+str(neg)+\".jpg\",data[0])\n",
    "        X_negative.append(data[0])\n",
    "        Y_negative.append(0.0)\n",
    "        neg = neg+1"
   ]
  },
  {
   "cell_type": "code",
   "execution_count": 69,
   "metadata": {},
   "outputs": [
    {
     "name": "stdout",
     "output_type": "stream",
     "text": [
      "Positive:  79645\n",
      "Negative:  187193\n"
     ]
    }
   ],
   "source": [
    "#Number of positive Elements and Negative Elements\n",
    "print(\"Positive: \", pos)\n",
    "print(\"Negative: \", neg)"
   ]
  },
  {
   "cell_type": "code",
   "execution_count": 70,
   "metadata": {},
   "outputs": [],
   "source": [
    "#Convert List into numpy array\n",
    "X_positive= np.asarray(X_positive)\n",
    "Y_positive= np.asarray(Y_positive)\n",
    "X_negative= np.asarray(X_negative)\n",
    "Y_negative= np.asarray(Y_negative)"
   ]
  },
  {
   "cell_type": "code",
   "execution_count": 74,
   "metadata": {},
   "outputs": [
    {
     "data": {
      "text/plain": [
       "(79645, 64, 64)"
      ]
     },
     "execution_count": 74,
     "metadata": {},
     "output_type": "execute_result"
    }
   ],
   "source": [
    "X_positive.shape"
   ]
  },
  {
   "cell_type": "code",
   "execution_count": 76,
   "metadata": {},
   "outputs": [
    {
     "data": {
      "text/plain": [
       "(79645,)"
      ]
     },
     "execution_count": 76,
     "metadata": {},
     "output_type": "execute_result"
    }
   ],
   "source": [
    "Y_positive.shape"
   ]
  },
  {
   "cell_type": "code",
   "execution_count": 77,
   "metadata": {},
   "outputs": [
    {
     "data": {
      "text/plain": [
       "(187193, 64, 64)"
      ]
     },
     "execution_count": 77,
     "metadata": {},
     "output_type": "execute_result"
    }
   ],
   "source": [
    "X_negative.shape"
   ]
  },
  {
   "cell_type": "code",
   "execution_count": 78,
   "metadata": {},
   "outputs": [
    {
     "data": {
      "text/plain": [
       "(187193,)"
      ]
     },
     "execution_count": 78,
     "metadata": {},
     "output_type": "execute_result"
    }
   ],
   "source": [
    "Y_negative.shape"
   ]
  },
  {
   "cell_type": "code",
   "execution_count": 79,
   "metadata": {},
   "outputs": [],
   "source": [
    "#Save all the data\n",
    "np.save(\"X_positive.npy\",X_positive)\n",
    "np.save(\"Y_positive.npy\",Y_positive)\n",
    "np.save(\"X_negative.npy\",X_negative)\n",
    "np.save(\"Y_negative.npy\",Y_negative)"
   ]
  }
 ],
 "metadata": {
  "kernelspec": {
   "display_name": "Python 3",
   "language": "python",
   "name": "python3"
  },
  "language_info": {
   "codemirror_mode": {
    "name": "ipython",
    "version": 3
   },
   "file_extension": ".py",
   "mimetype": "text/x-python",
   "name": "python",
   "nbconvert_exporter": "python",
   "pygments_lexer": "ipython3",
   "version": "3.6.8"
  }
 },
 "nbformat": 4,
 "nbformat_minor": 2
}
